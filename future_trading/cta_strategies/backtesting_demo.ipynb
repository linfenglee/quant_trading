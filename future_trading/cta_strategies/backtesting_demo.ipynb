{
 "cells": [
  {
   "cell_type": "code",
   "execution_count": 34,
   "metadata": {},
   "outputs": [],
   "source": [
    "from importlib import reload\n",
    "from datetime import datetime\n",
    "from vnpy.app.cta_strategy.backtesting import BacktestingEngine\n",
    "from vnpy.trader.constant import Interval"
   ]
  },
  {
   "cell_type": "markdown",
   "metadata": {},
   "source": [
    "## Basic Function"
   ]
  },
  {
   "cell_type": "code",
   "execution_count": 37,
   "metadata": {},
   "outputs": [],
   "source": [
    "def run_backtesting(\n",
    "    strategy_class, \n",
    "    setting=None,\n",
    "    vt_symbol=\"IF88.CFFEX\", \n",
    "    interval=Interval.MINUTE, \n",
    "    start=datetime(2010, 1, 1), \n",
    "    end=datetime(2020, 6, 30), \n",
    "    rate=0.5/10000, \n",
    "    slippage=0.2, \n",
    "    size=300, \n",
    "    pricetick=0.2, \n",
    "    capital=1_000_000\n",
    "):\n",
    "    engine = BacktestingEngine()\n",
    "    \n",
    "    engine.set_parameters(\n",
    "        vt_symbol=vt_symbol,\n",
    "        interval=interval,\n",
    "        start=start,\n",
    "        end=end,\n",
    "        rate=rate,\n",
    "        slippage=slippage,\n",
    "        size=size,\n",
    "        pricetick=pricetick,\n",
    "        capital=capital\n",
    "    )\n",
    "\n",
    "    if setting is None:\n",
    "        setting = {}\n",
    "    engine.add_strategy(strategy_class, setting)\n",
    "    \n",
    "    engine.load_data()\n",
    "    engine.run_backtesting()\n",
    "    df = engine.calculate_result()\n",
    "    engine.calculate_statistics()\n",
    "    engine.show_chart()\n",
    "    \n",
    "    return df"
   ]
  },
  {
   "cell_type": "code",
   "execution_count": 38,
   "metadata": {},
   "outputs": [],
   "source": [
    "def show_portfolio(df_list):\n",
    "    portfolio_df = df_list[0]\n",
    "    for df in df_list[1:]:\n",
    "        portfolio_df += df\n",
    "    \n",
    "    engine = BacktestingEngine()\n",
    "    engine.calculate_statistics(portfolio_df)\n",
    "    engine.show_chart(portfolio_df)"
   ]
  },
  {
   "cell_type": "markdown",
   "metadata": {},
   "source": [
    "## RBreaker Strategy"
   ]
  },
  {
   "cell_type": "code",
   "execution_count": 54,
   "metadata": {},
   "outputs": [],
   "source": [
    "import rbreaker_strategy\n",
    "reload(rbreaker_strategy)\n",
    "from rbreaker_strategy import RBreakStrategy"
   ]
  },
  {
   "cell_type": "code",
   "execution_count": 55,
   "metadata": {},
   "outputs": [
    {
     "name": "stdout",
     "output_type": "stream",
     "text": [
      "2021-07-18 13:03:35.539921\t--------------加载CU88.SHFE历史数据------------------\n",
      "2021-07-18 13:04:15.013427\t开始计算策略统计指标\n",
      "2021-07-18 13:04:15.018956\t策略统计指标计算完成\n"
     ]
    }
   ],
   "source": [
    "rbreak_df = run_backtesting(\n",
    "    RBreakStrategy,\n",
    "    vt_symbol=\"CU88.SHFE\"\n",
    ")"
   ]
  },
  {
   "cell_type": "code",
   "execution_count": 53,
   "metadata": {},
   "outputs": [],
   "source": [
    "rbreak_df"
   ]
  },
  {
   "cell_type": "markdown",
   "metadata": {},
   "source": [
    "## Cinco Strategy"
   ]
  },
  {
   "cell_type": "code",
   "execution_count": 16,
   "metadata": {},
   "outputs": [],
   "source": [
    "import cinco_strategy\n",
    "reload(cinco_strategy)\n",
    "from cinco_strategy import CincoStrategy"
   ]
  },
  {
   "cell_type": "code",
   "execution_count": 17,
   "metadata": {},
   "outputs": [
    {
     "name": "stdout",
     "output_type": "stream",
     "text": [
      "2021-07-16 16:47:18.985606\t--------------加载IF88.CFFEX历史数据------------------\n",
      "2021-07-16 16:47:23.197125\t开始计算策略统计指标\n",
      "2021-07-16 16:47:23.203695\t策略统计指标计算完成\n"
     ]
    }
   ],
   "source": [
    "cinco_df = run_backtesting(\n",
    "    CincoStrategy,\n",
    "    vt_symbol=\"IF88.CFFEX\"\n",
    ")"
   ]
  },
  {
   "cell_type": "markdown",
   "metadata": {},
   "source": [
    "## Cuatro Strategy"
   ]
  },
  {
   "cell_type": "code",
   "execution_count": 56,
   "metadata": {},
   "outputs": [],
   "source": [
    "import cuatro_strategy\n",
    "reload(cuatro_strategy)\n",
    "from cuatro_strategy import CuatroStrategy"
   ]
  },
  {
   "cell_type": "code",
   "execution_count": 58,
   "metadata": {},
   "outputs": [
    {
     "name": "stdout",
     "output_type": "stream",
     "text": [
      "2021-07-18 13:05:24.702800\t--------------加载CU88.SHFE历史数据------------------\n",
      "2021-07-18 13:05:36.492680\t开始计算策略统计指标\n",
      "2021-07-18 13:05:36.502746\t策略统计指标计算完成\n"
     ]
    },
    {
     "name": "stderr",
     "output_type": "stream",
     "text": [
      "/Users/linfengli/opt/anaconda3/envs/vnpy_219/lib/python3.7/site-packages/pandas/core/arraylike.py:358: RuntimeWarning:\n",
      "\n",
      "invalid value encountered in log\n",
      "\n"
     ]
    }
   ],
   "source": [
    "cuatro_df = run_backtesting(\n",
    "    CuatroStrategy,\n",
    "    vt_symbol=\"CU88.SHFE\"\n",
    ")"
   ]
  },
  {
   "cell_type": "markdown",
   "metadata": {},
   "source": [
    "## Super Combo Strategy"
   ]
  },
  {
   "cell_type": "code",
   "execution_count": 46,
   "metadata": {},
   "outputs": [],
   "source": [
    "import super_combo_strategy\n",
    "reload(super_combo_strategy)\n",
    "from super_combo_strategy import SuperComboStrategy"
   ]
  },
  {
   "cell_type": "code",
   "execution_count": 47,
   "metadata": {},
   "outputs": [
    {
     "name": "stdout",
     "output_type": "stream",
     "text": [
      "2021-07-18 12:55:57.407006\t--------------加载IF88.CFFEX历史数据------------------\n",
      "2021-07-18 12:56:07.792361\t开始计算策略统计指标\n",
      "2021-07-18 12:56:07.797948\t策略统计指标计算完成\n"
     ]
    }
   ],
   "source": [
    "super_combo_df = run_backtesting(\n",
    "    SuperComboStrategy,\n",
    "    vt_symbol=\"IF88.CFFEX\"\n",
    ")"
   ]
  },
  {
   "cell_type": "markdown",
   "metadata": {},
   "source": [
    "## Oscillator Drive Strategy"
   ]
  },
  {
   "cell_type": "code",
   "execution_count": 44,
   "metadata": {},
   "outputs": [],
   "source": [
    "import oscillator_drive_strategy\n",
    "reload(oscillator_drive_strategy)\n",
    "from oscillator_drive_strategy import OscillatorDriveStrategy"
   ]
  },
  {
   "cell_type": "code",
   "execution_count": 45,
   "metadata": {},
   "outputs": [
    {
     "name": "stdout",
     "output_type": "stream",
     "text": [
      "2021-07-18 12:55:26.496529\t--------------加载IF88.CFFEX历史数据------------------\n",
      "2021-07-18 12:55:29.828305\t开始计算策略统计指标\n",
      "2021-07-18 12:55:29.836635\t策略统计指标计算完成\n"
     ]
    }
   ],
   "source": [
    "oscillator_df = run_backtesting(\n",
    "    OscillatorDriveStrategy,\n",
    "    vt_symbol=\"IF88.CFFEX\"\n",
    ")"
   ]
  },
  {
   "cell_type": "markdown",
   "metadata": {},
   "source": [
    "# Portfolio"
   ]
  },
  {
   "cell_type": "code",
   "execution_count": 14,
   "metadata": {},
   "outputs": [
    {
     "ename": "TypeError",
     "evalue": "unsupported operand type(s) for +=: 'NoneType' and 'NoneType'",
     "output_type": "error",
     "traceback": [
      "\u001b[0;31m---------------------------------------------------------------------------\u001b[0m",
      "\u001b[0;31mTypeError\u001b[0m                                 Traceback (most recent call last)",
      "\u001b[0;32m<ipython-input-14-ef1a193e8e03>\u001b[0m in \u001b[0;36m<module>\u001b[0;34m\u001b[0m\n\u001b[1;32m      3\u001b[0m ]\n\u001b[1;32m      4\u001b[0m \u001b[0;34m\u001b[0m\u001b[0m\n\u001b[0;32m----> 5\u001b[0;31m \u001b[0mshow_portfolio\u001b[0m\u001b[0;34m(\u001b[0m\u001b[0mdf_list\u001b[0m\u001b[0;34m)\u001b[0m\u001b[0;34m\u001b[0m\u001b[0;34m\u001b[0m\u001b[0m\n\u001b[0m",
      "\u001b[0;32m<ipython-input-3-96e9f5945d6e>\u001b[0m in \u001b[0;36mshow_portfolio\u001b[0;34m(df_list)\u001b[0m\n\u001b[1;32m      2\u001b[0m     \u001b[0mportfolio_df\u001b[0m \u001b[0;34m=\u001b[0m \u001b[0mdf_list\u001b[0m\u001b[0;34m[\u001b[0m\u001b[0;36m0\u001b[0m\u001b[0;34m]\u001b[0m\u001b[0;34m\u001b[0m\u001b[0;34m\u001b[0m\u001b[0m\n\u001b[1;32m      3\u001b[0m     \u001b[0;32mfor\u001b[0m \u001b[0mdf\u001b[0m \u001b[0;32min\u001b[0m \u001b[0mdf_list\u001b[0m\u001b[0;34m[\u001b[0m\u001b[0;36m1\u001b[0m\u001b[0;34m:\u001b[0m\u001b[0;34m]\u001b[0m\u001b[0;34m:\u001b[0m\u001b[0;34m\u001b[0m\u001b[0;34m\u001b[0m\u001b[0m\n\u001b[0;32m----> 4\u001b[0;31m         \u001b[0mportfolio_df\u001b[0m \u001b[0;34m+=\u001b[0m \u001b[0mdf\u001b[0m\u001b[0;34m\u001b[0m\u001b[0;34m\u001b[0m\u001b[0m\n\u001b[0m\u001b[1;32m      5\u001b[0m \u001b[0;34m\u001b[0m\u001b[0m\n\u001b[1;32m      6\u001b[0m     \u001b[0mengine\u001b[0m \u001b[0;34m=\u001b[0m \u001b[0mBacktestingEngine\u001b[0m\u001b[0;34m(\u001b[0m\u001b[0;34m)\u001b[0m\u001b[0;34m\u001b[0m\u001b[0;34m\u001b[0m\u001b[0m\n",
      "\u001b[0;31mTypeError\u001b[0m: unsupported operand type(s) for +=: 'NoneType' and 'NoneType'"
     ]
    }
   ],
   "source": [
    "df_list = [\n",
    "    rbreak_df, cuatro_df, super_combo_df, oscillator_df\n",
    "]\n",
    "           \n",
    "show_portfolio(df_list)"
   ]
  },
  {
   "cell_type": "code",
   "execution_count": 50,
   "metadata": {},
   "outputs": [],
   "source": [
    "import atr_rsi_strategy\n",
    "reload(atr_rsi_strategy)\n",
    "from atr_rsi_strategy import AtrRsiStrategy\n",
    "\n"
   ]
  },
  {
   "cell_type": "code",
   "execution_count": 51,
   "metadata": {},
   "outputs": [
    {
     "name": "stdout",
     "output_type": "stream",
     "text": [
      "2021-07-18 12:59:50.605849\t--------------加载IF88.CFFEX历史数据------------------\n",
      "2021-07-18 13:00:14.265229\t开始计算策略统计指标\n",
      "2021-07-18 13:00:14.270604\t策略统计指标计算完成\n"
     ]
    }
   ],
   "source": [
    "atr_rsi_df = run_backtesting(\n",
    "    AtrRsiStrategy,\n",
    "    vt_symbol=\"IF88.CFFEX\"\n",
    ")"
   ]
  },
  {
   "cell_type": "code",
   "execution_count": null,
   "metadata": {},
   "outputs": [],
   "source": []
  }
 ],
 "metadata": {
  "kernelspec": {
   "display_name": "Python 3",
   "language": "python",
   "name": "python3"
  },
  "language_info": {
   "codemirror_mode": {
    "name": "ipython",
    "version": 3
   },
   "file_extension": ".py",
   "mimetype": "text/x-python",
   "name": "python",
   "nbconvert_exporter": "python",
   "pygments_lexer": "ipython3",
   "version": "3.7.10"
  }
 },
 "nbformat": 4,
 "nbformat_minor": 4
}
