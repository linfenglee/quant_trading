{
 "cells": [
  {
   "cell_type": "code",
   "execution_count": 1,
   "id": "882cdbc0-ce14-42ba-9e77-3b6c857637b4",
   "metadata": {},
   "outputs": [],
   "source": [
    "from importlib import reload\n",
    "from datetime import datetime\n",
    "from vnpy.app.cta_strategy.backtesting import BacktestingEngine\n",
    "from vnpy.trader.constant import Interval"
   ]
  },
  {
   "cell_type": "code",
   "execution_count": 6,
   "id": "2ac6b9f9-5ff2-4093-92de-6758c1224eaf",
   "metadata": {},
   "outputs": [],
   "source": [
    "def run_backtesting(\n",
    "    strategy_class, \n",
    "    setting=None,\n",
    "    vt_symbol=\"btcusdt.BINANCE\",\n",
    "    # interval=Interval.MINUTE,\n",
    "    interval=Interval.HOUR,\n",
    "    start=datetime(2017, 1, 1), \n",
    "    end=datetime(2021, 12, 30), \n",
    "    rate=2/10000, \n",
    "    slippage=0.5, \n",
    "    size=1, \n",
    "    pricetick=0.5, \n",
    "    capital=1_000_000\n",
    "):\n",
    "    engine = BacktestingEngine()\n",
    "    \n",
    "    engine.set_parameters(\n",
    "        vt_symbol=vt_symbol,\n",
    "        interval=interval,\n",
    "        start=start,\n",
    "        end=end,\n",
    "        rate=rate,\n",
    "        slippage=slippage,\n",
    "        size=size,\n",
    "        pricetick=pricetick,\n",
    "        capital=capital\n",
    "    )\n",
    "\n",
    "    if setting is None:\n",
    "        setting = {}\n",
    "    engine.add_strategy(strategy_class, setting)\n",
    "    \n",
    "    engine.load_data()\n",
    "    engine.run_backtesting()\n",
    "    df = engine.calculate_result()\n",
    "    engine.calculate_statistics()\n",
    "    engine.show_chart()\n",
    "    \n",
    "    return df"
   ]
  },
  {
   "cell_type": "code",
   "execution_count": 3,
   "id": "50de1d06-cdbc-474b-9fc6-255b4680dbd9",
   "metadata": {},
   "outputs": [],
   "source": [
    "def show_portfolio(df_list):\n",
    "    portfolio_df = df_list[0]\n",
    "    for df in df_list[1:]:\n",
    "        portfolio_df += df\n",
    "    \n",
    "    engine = BacktestingEngine()\n",
    "    engine.calculate_statistics(portfolio_df)\n",
    "    engine.show_chart(portfolio_df)"
   ]
  },
  {
   "cell_type": "markdown",
   "id": "62d5342f-78f1-4dc2-8376-3b0fd5585aba",
   "metadata": {},
   "source": [
    "## HPTP Strategy"
   ]
  },
  {
   "cell_type": "code",
   "execution_count": 4,
   "id": "135b5dab-e47c-4c5f-9970-503237ade4fa",
   "metadata": {},
   "outputs": [],
   "source": [
    "import HPTP_big_volume\n",
    "reload(HPTP_big_volume)\n",
    "from HPTP_big_volume import HPTP_big_volume"
   ]
  },
  {
   "cell_type": "code",
   "execution_count": 7,
   "id": "7de3cd6d-628e-4c04-a91c-465a4db73742",
   "metadata": {},
   "outputs": [
    {
     "name": "stdout",
     "output_type": "stream",
     "text": [
      "2021-09-28 16:37:00.321909\t--------------加载btcusdt.BINANCE历史数据------------------\n",
      "2021-09-28 16:37:03.754059\t开始计算策略统计指标\n",
      "2021-09-28 16:37:03.762319\t策略统计指标计算完成\n"
     ]
    }
   ],
   "source": [
    "hptp_df = run_backtesting(\n",
    "    HPTP_big_volume,\n",
    ")"
   ]
  },
  {
   "cell_type": "markdown",
   "id": "bc7bc5f1-041e-4d96-8156-9ee08363b65f",
   "metadata": {},
   "source": [
    "## Super Title Strategy"
   ]
  },
  {
   "cell_type": "code",
   "execution_count": 8,
   "id": "f8783f92-d9ba-466d-b522-13d181a43345",
   "metadata": {},
   "outputs": [],
   "source": [
    "import super_turtle_strategy\n",
    "reload(super_turtle_strategy)\n",
    "from super_turtle_strategy import SuperTurtleStrategy"
   ]
  },
  {
   "cell_type": "code",
   "execution_count": 9,
   "id": "c778de9b-2c29-478d-9a5c-47383f51fc6d",
   "metadata": {},
   "outputs": [
    {
     "name": "stdout",
     "output_type": "stream",
     "text": [
      "2021-09-28 16:38:38.731142\t--------------加载btcusdt.BINANCE历史数据------------------\n",
      "2021-09-28 16:38:40.213910\t开始计算策略统计指标\n",
      "2021-09-28 16:38:40.218773\t策略统计指标计算完成\n"
     ]
    }
   ],
   "source": [
    "super_df = run_backtesting(\n",
    "    SuperTurtleStrategy\n",
    ")"
   ]
  },
  {
   "cell_type": "markdown",
   "id": "7f97f544-a335-4e4f-80a4-222e2b84c6f4",
   "metadata": {},
   "source": [
    "## RSI MOM"
   ]
  },
  {
   "cell_type": "code",
   "execution_count": 10,
   "id": "db707c2e-fd5a-46f8-ac9e-0c47d4f64e20",
   "metadata": {},
   "outputs": [],
   "source": [
    "import rsi_momentum_strategy\n",
    "reload(rsi_momentum_strategy)\n",
    "from rsi_momentum_strategy import RsiMomentumStrategy"
   ]
  },
  {
   "cell_type": "code",
   "execution_count": 11,
   "id": "4de03c47-a910-4f2d-86f9-08f7bcdecf53",
   "metadata": {},
   "outputs": [
    {
     "name": "stdout",
     "output_type": "stream",
     "text": [
      "2021-09-28 16:40:39.577673\t--------------加载btcusdt.BINANCE历史数据------------------\n",
      "2021-09-28 16:40:41.089106\t开始计算策略统计指标\n",
      "2021-09-28 16:40:41.093941\t策略统计指标计算完成\n"
     ]
    }
   ],
   "source": [
    "rsi_df = run_backtesting(RsiMomentumStrategy)"
   ]
  },
  {
   "cell_type": "markdown",
   "id": "09a28fa9-c1eb-4fe6-90fd-17a3deb98823",
   "metadata": {},
   "source": [
    "## RSJ"
   ]
  },
  {
   "cell_type": "code",
   "execution_count": 14,
   "id": "c6c9ae93-0ee5-4fd4-b994-4443a883c620",
   "metadata": {},
   "outputs": [],
   "source": [
    "import rsj_strategy\n",
    "reload(rsj_strategy)\n",
    "from rsj_strategy import RsjStrategy"
   ]
  },
  {
   "cell_type": "code",
   "execution_count": 15,
   "id": "57e35cdb-1676-425d-a1e9-8886707327fc",
   "metadata": {},
   "outputs": [
    {
     "name": "stdout",
     "output_type": "stream",
     "text": [
      "2021-09-28 16:41:51.807451\t--------------加载btcusdt.BINANCE历史数据------------------\n",
      "2021-09-28 16:41:51.966052\t开始计算策略统计指标\n",
      "2021-09-28 16:41:51.966206\t策略统计指标计算完成\n"
     ]
    }
   ],
   "source": [
    "rsj_df = run_backtesting(RsjStrategy)"
   ]
  },
  {
   "cell_type": "code",
   "execution_count": 17,
   "id": "cdcfa9c3-aeec-45eb-b181-ea6c93441aca",
   "metadata": {},
   "outputs": [],
   "source": [
    "rsj_df"
   ]
  },
  {
   "cell_type": "markdown",
   "id": "f965d26b-75de-43c1-a8cc-6909d5795f4e",
   "metadata": {},
   "source": [
    "## Trend Thrust"
   ]
  },
  {
   "cell_type": "code",
   "execution_count": 18,
   "id": "2097379c-ea6e-4e92-b7e3-5d72f5640d34",
   "metadata": {},
   "outputs": [],
   "source": [
    "import trend_thrust_strategy\n",
    "reload(trend_thrust_strategy)\n",
    "from trend_thrust_strategy import TrendThrustStrategy"
   ]
  },
  {
   "cell_type": "code",
   "execution_count": null,
   "id": "48328c19-8564-43cf-9567-b362be3d43d7",
   "metadata": {},
   "outputs": [],
   "source": []
  }
 ],
 "metadata": {
  "kernelspec": {
   "display_name": "Python 3",
   "language": "python",
   "name": "python3"
  },
  "language_info": {
   "codemirror_mode": {
    "name": "ipython",
    "version": 3
   },
   "file_extension": ".py",
   "mimetype": "text/x-python",
   "name": "python",
   "nbconvert_exporter": "python",
   "pygments_lexer": "ipython3",
   "version": "3.7.10"
  }
 },
 "nbformat": 4,
 "nbformat_minor": 5
}
